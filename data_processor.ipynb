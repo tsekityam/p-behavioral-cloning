{
 "cells": [
  {
   "cell_type": "markdown",
   "metadata": {},
   "source": [
    "# Preparing"
   ]
  },
  {
   "cell_type": "markdown",
   "metadata": {},
   "source": [
    "### Import everything needed"
   ]
  },
  {
   "cell_type": "code",
   "execution_count": null,
   "metadata": {
    "collapsed": false
   },
   "outputs": [],
   "source": [
    "from collections import Counter\n",
    "import csv\n",
    "from itertools import groupby\n",
    "import random\n",
    "\n",
    "import cv2\n",
    "import matplotlib.image as mpimg\n",
    "import matplotlib.pyplot as plt\n",
    "import numpy as np\n",
    "import scipy.ndimage as sndi\n",
    "\n",
    "%matplotlib inline"
   ]
  },
  {
   "cell_type": "markdown",
   "metadata": {},
   "source": [
    "### Define all global varaibles"
   ]
  },
  {
   "cell_type": "code",
   "execution_count": null,
   "metadata": {
    "collapsed": false
   },
   "outputs": [],
   "source": [
    "drive_log_file = 'driving_log.csv'\n",
    "\n",
    "# raw data\n",
    "X_center = []\n",
    "X_left = []\n",
    "X_right = []\n",
    "y_steering = []\n",
    "\n",
    "# processed data\n",
    "X_train = np.array([]) # path to the image\n",
    "X_flag = np.array([]) # flag for idicating the image need to be flipped or not\n",
    "y_train = np.array([]) # steering angle while the image was captured"
   ]
  },
  {
   "cell_type": "markdown",
   "metadata": {},
   "source": [
    "### Define some helper function"
   ]
  },
  {
   "cell_type": "code",
   "execution_count": null,
   "metadata": {
    "collapsed": false
   },
   "outputs": [],
   "source": [
    "def show_steering_angle_distribution(y_train, groups = 2000):\n",
    "    plt.title(\"Steering angle distribution in training data\")\n",
    "    plt.hist(y_train, groups)\n",
    "    plt.show()"
   ]
  },
  {
   "cell_type": "markdown",
   "metadata": {},
   "source": [
    "# Read raw data"
   ]
  },
  {
   "cell_type": "code",
   "execution_count": null,
   "metadata": {
    "collapsed": false
   },
   "outputs": [],
   "source": [
    "with open(drive_log_file, 'rt') as csvfile:\n",
    "    reader = csv.reader(csvfile, skipinitialspace=True)\n",
    "\n",
    "    next(reader) # skip the first row\n",
    "    \n",
    "    i = 0\n",
    "    for row in reader:\n",
    "        i = i+1\n",
    "        X_center.append(row[0])\n",
    "        X_left.append(row[1])\n",
    "        X_right.append(row[2])\n",
    "        y_steering.append(float(row[3]))\n",
    "\n",
    "\n",
    "X_center = np.array(X_center)\n",
    "X_left = np.array(X_left)\n",
    "X_right = np.array(X_right)\n",
    "y_steering = np.array(y_steering)"
   ]
  },
  {
   "cell_type": "markdown",
   "metadata": {},
   "source": [
    "# Exploring"
   ]
  },
  {
   "cell_type": "code",
   "execution_count": null,
   "metadata": {
    "collapsed": false
   },
   "outputs": [],
   "source": [
    "show_steering_angle_distribution(y_steering)\n",
    "\n",
    "positive_angle = [i for i in y_steering if i > 0]\n",
    "nagative_angle = [i for i in y_steering if i < 0]\n",
    "zero_angle = [i for i in y_steering if i == 0]\n",
    "\n",
    "print('number of positive angle:', len(positive_angle))\n",
    "print('number of negative angle:', len(nagative_angle))\n",
    "print('number of zero angle:', len(zero_angle))"
   ]
  },
  {
   "cell_type": "markdown",
   "metadata": {},
   "source": [
    "# Preprocessing"
   ]
  },
  {
   "cell_type": "markdown",
   "metadata": {},
   "source": [
    "## Use side camera images"
   ]
  },
  {
   "cell_type": "code",
   "execution_count": null,
   "metadata": {
    "collapsed": false
   },
   "outputs": [],
   "source": [
    "X_train = np.append(X_center, X_left, axis=0)\n",
    "X_flag = np.append(np.zeros((len(X_center))), np.zeros((len(X_left))), axis=0)\n",
    "y_train = np.append(y_steering, y_steering+0.15, axis=0)\n",
    "\n",
    "X_train = np.append(X_train, X_right, axis=0)\n",
    "X_flag = np.append(X_flag, np.zeros((len(X_right))), axis=0)\n",
    "y_train = np.append(y_train, y_steering-0.15, axis=0)"
   ]
  },
  {
   "cell_type": "code",
   "execution_count": null,
   "metadata": {
    "collapsed": false
   },
   "outputs": [],
   "source": [
    "show_steering_angle_distribution(y_train)\n",
    "\n",
    "positive_angle = [i for i in y_train if i > 0]\n",
    "nagative_angle = [i for i in y_train if i < 0]\n",
    "zero_angle = [i for i in y_train if i == 0]\n",
    "\n",
    "print('number of positive angle:', len(positive_angle))\n",
    "print('number of negative angle:', len(nagative_angle))\n",
    "print('number of zero angle:', len(zero_angle))"
   ]
  },
  {
   "cell_type": "markdown",
   "metadata": {},
   "source": [
    "## Flip the image horizontally"
   ]
  },
  {
   "cell_type": "code",
   "execution_count": null,
   "metadata": {
    "collapsed": false
   },
   "outputs": [],
   "source": [
    "X_flag = np.append(X_flag, np.ones((len(X_train))), axis=0) # X_flag should be appended before X_train\n",
    "X_train = np.append(X_train, X_train, axis=0)\n",
    "y_train = np.append(y_train, -y_train, axis=0)"
   ]
  },
  {
   "cell_type": "code",
   "execution_count": null,
   "metadata": {
    "collapsed": false,
    "scrolled": true
   },
   "outputs": [],
   "source": [
    "show_steering_angle_distribution(y_train)\n",
    "\n",
    "positive_angle = [i for i in y_train if i > 0]\n",
    "nagative_angle = [i for i in y_train if i < 0]\n",
    "zero_angle = [i for i in y_train if i == 0]\n",
    "\n",
    "print('number of positive angle:', len(positive_angle))\n",
    "print('number of negative angle:', len(nagative_angle))\n",
    "print('number of zero angle:', len(zero_angle))"
   ]
  },
  {
   "cell_type": "markdown",
   "metadata": {},
   "source": [
    "## Select some of the data for training"
   ]
  },
  {
   "cell_type": "markdown",
   "metadata": {},
   "source": [
    "### Limit the max number of sample of each steering angle range"
   ]
  },
  {
   "cell_type": "code",
   "execution_count": null,
   "metadata": {
    "collapsed": true
   },
   "outputs": [],
   "source": [
    "max_keep = 500"
   ]
  },
  {
   "cell_type": "code",
   "execution_count": null,
   "metadata": {
    "collapsed": false
   },
   "outputs": [],
   "source": [
    "for i in np.arange(-1.5, 1.5, 0.001):\n",
    "    rounded_y_train = np.round(y_train, 3)\n",
    "    i = np.round(i, 3)\n",
    "    indices = np.where(rounded_y_train == i)[0]\n",
    "    if len(indices) > max_keep:\n",
    "        indices_to_be_deleted = indices[random.sample(range(len(indices)), len(indices) - max_keep)]\n",
    "        X_flag = np.delete(X_flag, indices_to_be_deleted)\n",
    "        X_train = np.delete(X_train, indices_to_be_deleted)\n",
    "        y_train = np.delete(y_train, indices_to_be_deleted)"
   ]
  },
  {
   "cell_type": "code",
   "execution_count": null,
   "metadata": {
    "collapsed": false
   },
   "outputs": [],
   "source": [
    "show_steering_angle_distribution(y_train)\n",
    "\n",
    "positive_angle = [i for i in y_train if i > 0]\n",
    "nagative_angle = [i for i in y_train if i < 0]\n",
    "zero_angle = [i for i in y_train if i == 0]\n",
    "\n",
    "print('number of positive angle:', len(positive_angle))\n",
    "print('number of negative angle:', len(nagative_angle))\n",
    "print('number of zero angle:', len(zero_angle))"
   ]
  },
  {
   "cell_type": "markdown",
   "metadata": {},
   "source": [
    "### Choice only 3/4 of the data for training"
   ]
  },
  {
   "cell_type": "code",
   "execution_count": null,
   "metadata": {
    "collapsed": true
   },
   "outputs": [],
   "source": [
    "indices = random.sample(range(len(X_train)), round(len(X_train)*3/4))\n",
    "\n",
    "X_flag = X_flag[indices]\n",
    "X_train = X_train[indices]\n",
    "y_train = y_train[indices]"
   ]
  },
  {
   "cell_type": "code",
   "execution_count": null,
   "metadata": {
    "collapsed": false
   },
   "outputs": [],
   "source": [
    "show_steering_angle_distribution(y_train)\n",
    "\n",
    "positive_angle = [i for i in y_train if i > 0]\n",
    "nagative_angle = [i for i in y_train if i < 0]\n",
    "zero_angle = [i for i in y_train if i == 0]\n",
    "\n",
    "print('number of positive angle:', len(positive_angle))\n",
    "print('number of negative angle:', len(nagative_angle))\n",
    "print('number of zero angle:', len(zero_angle))"
   ]
  },
  {
   "cell_type": "markdown",
   "metadata": {},
   "source": [
    "# Perprocess image to fit the Nvidia network input"
   ]
  },
  {
   "cell_type": "code",
   "execution_count": null,
   "metadata": {
    "collapsed": true
   },
   "outputs": [],
   "source": [
    "def get_cropped_images(images):\n",
    "    shape = images[0].shape\n",
    "    height = shape[0]\n",
    "    width = shape[1]\n",
    "    return images[0:len(images), 80:height-30, 0:width]\n",
    "\n",
    "def get_images_in_yuv(images):\n",
    "    yuv_images = []\n",
    "    for i in range(len(images)):\n",
    "        yuv_images.append(cv2.cvtColor(images[i], cv2.COLOR_RGB2YUV))\n",
    "    return np.array(yuv_images)\n",
    "\n",
    "def get_resized_images(images):\n",
    "    resized_images = []\n",
    "    for i in range(len(images)):\n",
    "        resized_images.append(cv2.resize(images[i].astype(np.uint8), (200, 66), cv2.INTER_AREA))\n",
    "    return np.array(resized_images)\n",
    "\n",
    "def preprocess_input(images):\n",
    "    images = get_cropped_images(images)\n",
    "    images = get_resized_images(images)\n",
    "    images = get_images_in_yuv(images)\n",
    "    return images"
   ]
  },
  {
   "cell_type": "code",
   "execution_count": null,
   "metadata": {
    "collapsed": false
   },
   "outputs": [],
   "source": [
    "fig = plt.figure()\n",
    "\n",
    "images = np.array([\n",
    "    mpimg.imread(X_center[675])\n",
    "])\n",
    "\n",
    "a=fig.add_subplot(2,1,1)\n",
    "imgplot = plt.imshow(images[0])\n",
    "plt.gca().axes.get_xaxis().set_visible(False)\n",
    "plt.gca().axes.get_yaxis().set_visible(False)\n",
    "a.set_title('Before ' + str(images[0].shape))\n",
    "\n",
    "preprocessed_images = preprocess_input(images)\n",
    "\n",
    "a=fig.add_subplot(2,1,2)\n",
    "imgplot = plt.imshow(preprocessed_images[0])\n",
    "plt.gca().axes.get_xaxis().set_visible(False)\n",
    "plt.gca().axes.get_yaxis().set_visible(False)\n",
    "a.set_title('After ' + str(preprocessed_images[0].shape))"
   ]
  },
  {
   "cell_type": "markdown",
   "metadata": {
    "collapsed": true
   },
   "source": [
    "# Saving"
   ]
  },
  {
   "cell_type": "code",
   "execution_count": null,
   "metadata": {
    "collapsed": false
   },
   "outputs": [],
   "source": [
    "out_file = open('driving_data.csv', 'w')\n",
    "for i in range(len(X_train)):\n",
    "    out_file.write(X_train[i] + \", \" + str(X_flag[i]) + \", \" + str(y_train[i]) + \"\\n\")\n",
    "out_file.close()"
   ]
  },
  {
   "cell_type": "code",
   "execution_count": null,
   "metadata": {
    "collapsed": true
   },
   "outputs": [],
   "source": []
  }
 ],
 "metadata": {
  "kernelspec": {
   "display_name": "Python 3",
   "language": "python",
   "name": "python3"
  },
  "language_info": {
   "codemirror_mode": {
    "name": "ipython",
    "version": 3
   },
   "file_extension": ".py",
   "mimetype": "text/x-python",
   "name": "python",
   "nbconvert_exporter": "python",
   "pygments_lexer": "ipython3",
   "version": "3.5.2"
  },
  "widgets": {
   "state": {},
   "version": "1.1.2"
  }
 },
 "nbformat": 4,
 "nbformat_minor": 2
}
