{
 "cells": [
  {
   "cell_type": "markdown",
   "metadata": {},
   "source": [
    "# Preparing"
   ]
  },
  {
   "cell_type": "markdown",
   "metadata": {},
   "source": [
    "### Import everything needed"
   ]
  },
  {
   "cell_type": "code",
   "execution_count": null,
   "metadata": {
    "collapsed": false
   },
   "outputs": [],
   "source": [
    "from collections import Counter\n",
    "import csv\n",
    "\n",
    "import matplotlib.pyplot as plt\n",
    "import numpy as np\n",
    "\n",
    "%matplotlib inline"
   ]
  },
  {
   "cell_type": "markdown",
   "metadata": {},
   "source": [
    "### Define all global varaibles"
   ]
  },
  {
   "cell_type": "code",
   "execution_count": null,
   "metadata": {
    "collapsed": false
   },
   "outputs": [],
   "source": [
    "drive_log_file = 'driving_log.csv'\n",
    "\n",
    "# raw data\n",
    "X_center = []\n",
    "X_left = []\n",
    "X_right = []\n",
    "y_steering = []\n",
    "\n",
    "# processed data\n",
    "X_train = np.array([]) # path to the image\n",
    "X_flag = np.array([]) # flag for idicating the image need to be flipped or not\n",
    "y_train = np.array([]) # steering angle while the image was captured"
   ]
  },
  {
   "cell_type": "markdown",
   "metadata": {},
   "source": [
    "### Define some helper function"
   ]
  },
  {
   "cell_type": "code",
   "execution_count": null,
   "metadata": {
    "collapsed": false
   },
   "outputs": [],
   "source": [
    "def show_steering_angle_distribution(y_train):\n",
    "    plt.title(\"Steering angle distribution in training data\")\n",
    "    plt.hist(y_train, 50)\n",
    "    plt.show()"
   ]
  },
  {
   "cell_type": "markdown",
   "metadata": {},
   "source": [
    "# Read raw data"
   ]
  },
  {
   "cell_type": "code",
   "execution_count": null,
   "metadata": {
    "collapsed": false
   },
   "outputs": [],
   "source": [
    "with open(drive_log_file, 'rt') as csvfile:\n",
    "    reader = csv.reader(csvfile, skipinitialspace=True)\n",
    "\n",
    "    next(reader) # skip the first row\n",
    "    \n",
    "    i = 0\n",
    "    for row in reader:\n",
    "        i = i+1\n",
    "        if float(row[3]) == 0 and np.random.randint(10) != 0:\n",
    "            continue\n",
    "        X_center.append(row[0])\n",
    "        X_left.append(row[1])\n",
    "        X_right.append(row[2])\n",
    "        y_steering.append(float(row[3]))\n",
    "\n",
    "X_center = np.array(X_center)\n",
    "X_left = np.array(X_left)\n",
    "X_right = np.array(X_right)\n",
    "y_steering = np.array(y_steering)"
   ]
  },
  {
   "cell_type": "markdown",
   "metadata": {},
   "source": [
    "# Exploring"
   ]
  },
  {
   "cell_type": "code",
   "execution_count": null,
   "metadata": {
    "collapsed": false
   },
   "outputs": [],
   "source": [
    "show_steering_angle_distribution(y_steering)\n",
    "\n",
    "positive_angle = [i for i in y_steering if i > 0]\n",
    "nagative_angle = [i for i in y_steering if i < 0]\n",
    "zero_angle = [i for i in y_steering if i == 0]\n",
    "\n",
    "print('number of positive angle:', len(positive_angle))\n",
    "print('number of negative angle:', len(nagative_angle))\n",
    "print('number of zero angle:', len(zero_angle))"
   ]
  },
  {
   "cell_type": "markdown",
   "metadata": {},
   "source": [
    "# Preprocessing"
   ]
  },
  {
   "cell_type": "markdown",
   "metadata": {},
   "source": [
    "## Use side camera images"
   ]
  },
  {
   "cell_type": "code",
   "execution_count": null,
   "metadata": {
    "collapsed": true
   },
   "outputs": [],
   "source": [
    "X_train = np.append(X_center, X_left, axis=0)\n",
    "X_flag = np.append(np.zeros((len(X_center), 1)), np.zeros((len(X_left), 1)))\n",
    "y_train = np.append(y_steering, y_steering+0.15, axis=0)\n",
    "\n",
    "X_train = np.append(X_train, X_right, axis=0)\n",
    "X_flag = np.append(X_flag, np.zeros((len(X_right), 1)))\n",
    "y_train = np.append(y_train, y_steering-0.15, axis=0)"
   ]
  },
  {
   "cell_type": "code",
   "execution_count": null,
   "metadata": {
    "collapsed": false
   },
   "outputs": [],
   "source": [
    "show_steering_angle_distribution(y_train)\n",
    "\n",
    "positive_angle = [i for i in y_train if i > 0]\n",
    "nagative_angle = [i for i in y_train if i < 0]\n",
    "zero_angle = [i for i in y_train if i == 0]\n",
    "\n",
    "print('number of positive angle:', len(positive_angle))\n",
    "print('number of negative angle:', len(nagative_angle))\n",
    "print('number of zero angle:', len(zero_angle))"
   ]
  },
  {
   "cell_type": "markdown",
   "metadata": {},
   "source": [
    "## 2. Flip the image horizontally"
   ]
  },
  {
   "cell_type": "code",
   "execution_count": null,
   "metadata": {
    "collapsed": false
   },
   "outputs": [],
   "source": [
    "flipped_X_train, flipped_y_steering = get_flipped_images(X_train, y_train)\n",
    "\n",
    "X_flag = np.append(X_flag, np.ones((len(X_train), 1))) # X_flag should be appended before X_train\n",
    "X_train = np.append(X_train, X_train, axis=0)\n",
    "y_train = np.append(y_train, -y_train, axis=0)"
   ]
  },
  {
   "cell_type": "code",
   "execution_count": null,
   "metadata": {
    "collapsed": false
   },
   "outputs": [],
   "source": [
    "show_steering_angle_distribution(y_train)\n",
    "\n",
    "positive_angle = [i for i in y_train if i > 0]\n",
    "nagative_angle = [i for i in y_train if i < 0]\n",
    "zero_angle = [i for i in y_train if i == 0]\n",
    "\n",
    "print('number of positive angle:', len(positive_angle))\n",
    "print('number of negative angle:', len(nagative_angle))\n",
    "print('number of zero angle:', len(zero_angle))"
   ]
  },
  {
   "cell_type": "markdown",
   "metadata": {
    "collapsed": true
   },
   "source": [
    "# Saving"
   ]
  },
  {
   "cell_type": "code",
   "execution_count": null,
   "metadata": {
    "collapsed": false
   },
   "outputs": [],
   "source": [
    "out_file = open('driving_data.csv', 'w')\n",
    "for i in range(len(X_train)):\n",
    "    out_file.write(X_train[i] + \", \" + str(X_flag[i]) + \", \" + str(y_train[i]) + \"\\n\")\n",
    "out_file.close()"
   ]
  },
  {
   "cell_type": "code",
   "execution_count": null,
   "metadata": {
    "collapsed": true
   },
   "outputs": [],
   "source": []
  }
 ],
 "metadata": {
  "kernelspec": {
   "display_name": "Python 3",
   "language": "python",
   "name": "python3"
  },
  "language_info": {
   "codemirror_mode": {
    "name": "ipython",
    "version": 3
   },
   "file_extension": ".py",
   "mimetype": "text/x-python",
   "name": "python",
   "nbconvert_exporter": "python",
   "pygments_lexer": "ipython3",
   "version": "3.5.2"
  },
  "widgets": {
   "state": {},
   "version": "1.1.2"
  }
 },
 "nbformat": 4,
 "nbformat_minor": 2
}
