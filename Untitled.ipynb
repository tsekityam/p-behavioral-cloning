{
 "cells": [
  {
   "cell_type": "code",
   "execution_count": null,
   "metadata": {
    "collapsed": false
   },
   "outputs": [],
   "source": [
    "from collections import Counter\n",
    "import csv\n",
    "\n",
    "import matplotlib.image as mpimg\n",
    "import matplotlib.pyplot as plt\n",
    "import numpy as np"
   ]
  },
  {
   "cell_type": "code",
   "execution_count": null,
   "metadata": {
    "collapsed": true
   },
   "outputs": [],
   "source": [
    "drive_log_file = 'driving_log.csv'"
   ]
  },
  {
   "cell_type": "code",
   "execution_count": null,
   "metadata": {
    "collapsed": false
   },
   "outputs": [],
   "source": [
    "X_center = []\n",
    "y_steering = []\n",
    "\n",
    "with open(drive_log_file, 'rt') as csvfile:\n",
    "    reader = csv.reader(csvfile, skipinitialspace=True)\n",
    "\n",
    "    next(reader) # skip the first row\n",
    "    \n",
    "    i = 0\n",
    "    for row in reader:\n",
    "        i = i+1\n",
    "        X_center.append(row[0])\n",
    "        y_steering.append(float(row[3]))\n",
    "\n",
    "y_steering = np.array(y_steering)\n",
    "\n",
    "print(\"Top 5 most common steering angles in training data (steering angle, count):\")\n",
    "print(*Counter(y_steering).most_common(5), sep=\"\\n\")\n",
    "\n",
    "plt.title(\"Steering angle distribution in training data\")\n",
    "plt.hist(y_steering, 1000)\n",
    "plt.show()"
   ]
  },
  {
   "cell_type": "code",
   "execution_count": null,
   "metadata": {
    "collapsed": true
   },
   "outputs": [],
   "source": []
  }
 ],
 "metadata": {
  "kernelspec": {
   "display_name": "Python 3",
   "language": "python",
   "name": "python3"
  },
  "language_info": {
   "codemirror_mode": {
    "name": "ipython",
    "version": 3
   },
   "file_extension": ".py",
   "mimetype": "text/x-python",
   "name": "python",
   "nbconvert_exporter": "python",
   "pygments_lexer": "ipython3",
   "version": "3.5.2"
  },
  "widgets": {
   "state": {},
   "version": "1.1.2"
  }
 },
 "nbformat": 4,
 "nbformat_minor": 2
}
