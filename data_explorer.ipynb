{
 "cells": [
  {
   "cell_type": "code",
   "execution_count": null,
   "metadata": {
    "collapsed": false
   },
   "outputs": [],
   "source": [
    "from collections import Counter\n",
    "import csv\n",
    "\n",
    "import cv2\n",
    "import matplotlib.image as mpimg\n",
    "import matplotlib.pyplot as plt\n",
    "import numpy as np\n",
    "import scipy.ndimage as sndi\n",
    "\n",
    "%matplotlib inline"
   ]
  },
  {
   "cell_type": "code",
   "execution_count": null,
   "metadata": {
    "collapsed": true
   },
   "outputs": [],
   "source": [
    "drive_log_file = 'driving_log.csv'"
   ]
  },
  {
   "cell_type": "code",
   "execution_count": null,
   "metadata": {
    "collapsed": false
   },
   "outputs": [],
   "source": [
    "X_center = []\n",
    "X_left = []\n",
    "X_right = []\n",
    "y_steering = []\n",
    "\n",
    "with open(drive_log_file, 'rt') as csvfile:\n",
    "    reader = csv.reader(csvfile, skipinitialspace=True)\n",
    "\n",
    "    next(reader) # skip the first row\n",
    "    \n",
    "    i = 0\n",
    "    for row in reader:\n",
    "        i = i+1\n",
    "        X_center.append(row[0])\n",
    "        X_left.append(row[1])\n",
    "        X_right.append(row[2])\n",
    "        y_steering.append(float(row[3]))\n",
    "\n",
    "X_center = np.array(X_center)\n",
    "X_left = np.array(X_left)\n",
    "X_right = np.array(X_right)\n",
    "y_steering = np.array(y_steering)"
   ]
  },
  {
   "cell_type": "markdown",
   "metadata": {},
   "source": [
    "# Data exploration"
   ]
  },
  {
   "cell_type": "markdown",
   "metadata": {},
   "source": [
    "## 1. Steering angles"
   ]
  },
  {
   "cell_type": "code",
   "execution_count": null,
   "metadata": {
    "collapsed": false
   },
   "outputs": [],
   "source": [
    "plt.title(\"Steering angle distribution in training data\")\n",
    "plt.hist(y_steering, 1000)\n",
    "plt.show()"
   ]
  },
  {
   "cell_type": "code",
   "execution_count": null,
   "metadata": {
    "collapsed": false
   },
   "outputs": [],
   "source": [
    "plt.title(\"Steering angle versus samples\")\n",
    "plt.plot(y_steering)\n",
    "plt.show()\n",
    "\n",
    "positive_angle = [i for i in y_steering if i > 0]\n",
    "nagative_angle = [i for i in y_steering if i < 0]\n",
    "zero_angle = [i for i in y_steering if i == 0]\n",
    "\n",
    "print('number of positive angle:', len(positive_angle))\n",
    "print('number of negative angle:', len(nagative_angle))\n",
    "print('number of zero angle:', len(zero_angle))"
   ]
  },
  {
   "cell_type": "markdown",
   "metadata": {},
   "source": [
    "As I mentioned, number of zero angle case in the data is much higher then the others. Although number of positive angles are higher then that of negative angles, the difference is small, and should not affect our training."
   ]
  },
  {
   "cell_type": "code",
   "execution_count": null,
   "metadata": {
    "collapsed": false
   },
   "outputs": [],
   "source": [
    "plt.title(\"Steering angle versus first 500 samples\")\n",
    "plt.plot(y_steering[0:500])\n",
    "plt.show()"
   ]
  },
  {
   "cell_type": "markdown",
   "metadata": {},
   "source": [
    "Steering angle changes while arrow keys are pressed, as a result, the changes in steering angle is sharp. However, in reality, the steering angle should be changed smoothly.\n",
    "\n",
    "We may need to apply a smoother on the data."
   ]
  },
  {
   "cell_type": "markdown",
   "metadata": {},
   "source": [
    "## 2. Camera images"
   ]
  },
  {
   "cell_type": "code",
   "execution_count": null,
   "metadata": {
    "collapsed": false
   },
   "outputs": [],
   "source": [
    "print(\"Sample images from different cameras\")\n",
    "fig = plt.figure()\n",
    "\n",
    "a=fig.add_subplot(1,3,1)\n",
    "img = mpimg.imread(X_left[0])\n",
    "imgplot = plt.imshow(img)\n",
    "plt.gca().axes.get_xaxis().set_visible(False)\n",
    "plt.gca().axes.get_yaxis().set_visible(False)\n",
    "a.set_title('Left')\n",
    "\n",
    "a=fig.add_subplot(1,3,2)\n",
    "img = mpimg.imread(X_center[0])\n",
    "imgplot = plt.imshow(img)\n",
    "plt.gca().axes.get_xaxis().set_visible(False)\n",
    "plt.gca().axes.get_yaxis().set_visible(False)\n",
    "a.set_title('Center')\n",
    "\n",
    "a=fig.add_subplot(1,3,3)\n",
    "img = mpimg.imread(X_right[0])\n",
    "imgplot = plt.imshow(img)\n",
    "plt.gca().axes.get_xaxis().set_visible(False)\n",
    "plt.gca().axes.get_yaxis().set_visible(False)\n",
    "a.set_title('Right')"
   ]
  },
  {
   "cell_type": "markdown",
   "metadata": {},
   "source": [
    "Each sample contains three images from different cameras, each camera points at different angle.\n",
    "\n",
    "Besides the center camera images, we may use other camera images to teach our network."
   ]
  },
  {
   "cell_type": "markdown",
   "metadata": {},
   "source": [
    "# Preprocessing"
   ]
  },
  {
   "cell_type": "markdown",
   "metadata": {},
   "source": [
    "## 1. Gaussian Filter"
   ]
  },
  {
   "cell_type": "markdown",
   "metadata": {},
   "source": [
    "I choose Gaussian filter to smooth the curve, because it is simple and efficient."
   ]
  },
  {
   "cell_type": "code",
   "execution_count": null,
   "metadata": {
    "collapsed": false
   },
   "outputs": [],
   "source": [
    "func = lambda x: np.mean(x)\n",
    "data = y_steering\n",
    "smoothed_y_steering = sndi.gaussian_filter(data, [1])\n",
    "\n",
    "print(smoothed_y_steering)\n",
    "print(y_steering)"
   ]
  },
  {
   "cell_type": "code",
   "execution_count": null,
   "metadata": {
    "collapsed": false
   },
   "outputs": [],
   "source": [
    "plt.title(\"Gaussian filtered steering angle versus first 500 samples\")\n",
    "plt.plot(smoothed_y_steering[0:500])\n",
    "plt.plot(y_steering[0:500], color=\"red\")\n",
    "plt.show()"
   ]
  },
  {
   "cell_type": "code",
   "execution_count": null,
   "metadata": {
    "collapsed": false
   },
   "outputs": [],
   "source": [
    "plt.title(\"Gaussian filtered steering angle distribution in training data\")\n",
    "plt.hist(smoothed_y_steering, 1000)\n",
    "plt.show()"
   ]
  },
  {
   "cell_type": "code",
   "execution_count": null,
   "metadata": {
    "collapsed": false
   },
   "outputs": [],
   "source": [
    "plt.title(\"Gaussian filtered steering angle versus samples\")\n",
    "plt.plot(smoothed_y_steering)\n",
    "plt.show()"
   ]
  },
  {
   "cell_type": "markdown",
   "metadata": {},
   "source": [
    "After applying Gaussian filter, the number of sample with *steering angle == 0* decreases, and the range of steering angle reduces."
   ]
  },
  {
   "cell_type": "markdown",
   "metadata": {},
   "source": [
    "## 2. Use side camera images"
   ]
  },
  {
   "cell_type": "code",
   "execution_count": null,
   "metadata": {
    "collapsed": false
   },
   "outputs": [],
   "source": [
    "def get_image_with_steering_angle_in_range(position, min_angle, max_angle):\n",
    "    for i in range(len(y_steering)):\n",
    "        if y_steering[i] >= min_angle and y_steering[i] <= max_angle:\n",
    "            if position == 'center':\n",
    "                img = mpimg.imread(X_center[i])\n",
    "            elif position == 'left':\n",
    "                img = mpimg.imread(X_left[i])\n",
    "            elif position == 'right':\n",
    "                img = mpimg.imread(X_right[i])\n",
    "            return img, y_steering[i]"
   ]
  },
  {
   "cell_type": "code",
   "execution_count": null,
   "metadata": {
    "collapsed": false
   },
   "outputs": [],
   "source": [
    "fig = plt.figure()\n",
    "\n",
    "img, angle = get_image_with_steering_angle_in_range('center', 0.15, 0.25)\n",
    "a=fig.add_subplot(2,1,1)\n",
    "imgplot = plt.imshow(img)\n",
    "plt.gca().axes.get_xaxis().set_visible(False)\n",
    "plt.gca().axes.get_yaxis().set_visible(False)\n",
    "a.set_title('Center image with angle: ' + str(angle))\n",
    "\n",
    "img, angle = get_image_with_steering_angle_in_range('left', -0.05, 0.05)\n",
    "a=fig.add_subplot(2,1,2)\n",
    "imgplot = plt.imshow(img)\n",
    "plt.gca().axes.get_xaxis().set_visible(False)\n",
    "plt.gca().axes.get_yaxis().set_visible(False)\n",
    "a.set_title('Left image with angle: ' + str(angle))"
   ]
  },
  {
   "cell_type": "markdown",
   "metadata": {},
   "source": [
    "I think left camera image at *steering angle == 0* looks similar to the center camera image at *stering angle == ~0.5*, so I will use left camera images for training, with a steering angle offset **0.15**"
   ]
  },
  {
   "cell_type": "markdown",
   "metadata": {},
   "source": [
    "Obviously, images from right camera should look similar to center camera image, with an offset steering angle **-0.15**"
   ]
  },
  {
   "cell_type": "markdown",
   "metadata": {},
   "source": [
    "## 3. Flip the image horizontally"
   ]
  },
  {
   "cell_type": "markdown",
   "metadata": {},
   "source": [
    "If we flip the image with steering angle **x** horizontally, then we should have an image with steering angle **-x**. We can use this trick to double our sample size."
   ]
  },
  {
   "cell_type": "code",
   "execution_count": null,
   "metadata": {
    "collapsed": false
   },
   "outputs": [],
   "source": [
    "fig = plt.figure()\n",
    "\n",
    "img, angle = get_image_with_steering_angle_in_range('center', 0.4, 0.5)\n",
    "a=fig.add_subplot(2,1,1)\n",
    "imgplot = plt.imshow(img)\n",
    "plt.gca().axes.get_xaxis().set_visible(False)\n",
    "plt.gca().axes.get_yaxis().set_visible(False)\n",
    "a.set_title('Center image with angle: ' + str(angle))\n",
    "\n",
    "a=fig.add_subplot(2,1,2)\n",
    "flipped_img = cv2.flip(img, flipCode=1)\n",
    "imgplot = plt.imshow(flipped_img)\n",
    "plt.gca().axes.get_xaxis().set_visible(False)\n",
    "plt.gca().axes.get_yaxis().set_visible(False)\n",
    "a.set_title('Center image with angle: ' + str(-angle))"
   ]
  },
  {
   "cell_type": "code",
   "execution_count": null,
   "metadata": {
    "collapsed": true
   },
   "outputs": [],
   "source": []
  }
 ],
 "metadata": {
  "kernelspec": {
   "display_name": "Python 3",
   "language": "python",
   "name": "python3"
  },
  "language_info": {
   "codemirror_mode": {
    "name": "ipython",
    "version": 3
   },
   "file_extension": ".py",
   "mimetype": "text/x-python",
   "name": "python",
   "nbconvert_exporter": "python",
   "pygments_lexer": "ipython3",
   "version": "3.5.2"
  },
  "widgets": {
   "state": {},
   "version": "1.1.2"
  }
 },
 "nbformat": 4,
 "nbformat_minor": 2
}
